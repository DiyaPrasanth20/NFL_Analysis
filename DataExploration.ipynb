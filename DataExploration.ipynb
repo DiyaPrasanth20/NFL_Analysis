{
 "cells": [
  {
   "cell_type": "code",
   "execution_count": 2,
   "metadata": {},
   "outputs": [],
   "source": [
    "import pandas as pd"
   ]
  },
  {
   "cell_type": "code",
   "execution_count": 5,
   "metadata": {},
   "outputs": [],
   "source": [
    "playlist = pd.read_csv('data/PlayList.csv')\n",
    "injuries = pd.read_csv('data/InjuryRecord.csv')"
   ]
  },
  {
   "cell_type": "code",
   "execution_count": 7,
   "metadata": {},
   "outputs": [
    {
     "name": "stdout",
     "output_type": "stream",
     "text": [
      "Total Count of Missed Days Due to Injuries:\n",
      "DM_M1     105\n",
      "DM_M7      76\n",
      "DM_M28     37\n",
      "DM_M42     29\n",
      "dtype: int64\n"
     ]
    }
   ],
   "source": [
    "# 1. Summarizing frequencies for DM_M1, DM_M7, DM_M28, and DM_M42\n",
    "dm_stats = injuries[['DM_M1', 'DM_M7', 'DM_M28', 'DM_M42']].sum()\n",
    "print(\"Total Count of Missed Days Due to Injuries:\")\n",
    "print(dm_stats)"
   ]
  },
  {
   "cell_type": "code",
   "execution_count": null,
   "metadata": {},
   "outputs": [],
   "source": []
  }
 ],
 "metadata": {
  "kernelspec": {
   "display_name": "cs373",
   "language": "python",
   "name": "python3"
  },
  "language_info": {
   "codemirror_mode": {
    "name": "ipython",
    "version": 3
   },
   "file_extension": ".py",
   "mimetype": "text/x-python",
   "name": "python",
   "nbconvert_exporter": "python",
   "pygments_lexer": "ipython3",
   "version": "3.11.0"
  }
 },
 "nbformat": 4,
 "nbformat_minor": 2
}
