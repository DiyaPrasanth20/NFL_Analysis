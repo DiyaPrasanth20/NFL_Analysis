{
 "cells": [
  {
   "cell_type": "markdown",
   "metadata": {},
   "source": [
    "# Before we do anything:"
   ]
  },
  {
   "cell_type": "markdown",
   "metadata": {
    "vscode": {
     "languageId": "plaintext"
    }
   },
   "source": [
    "We must get the rest of the data and split them into training and testing batches.\n",
    "\n",
    "### Plan of action:\n",
    "- Download the play_by_play data for each year in CSV format\n",
    "- Download the injury data for each year in CSV format\n",
    "- Put all of it in the data directory\n",
    "- Create a Python script that uses all of the preprocessing (cleaning, constructing, formatting) sections of Data Prep\n",
    "- Run the Python script on each year for the play_by_play and injury data\n",
    "- Separate, based on the limits of the data\n",
    "    - Training data: 2009 - 2017\n",
    "    - Testing data: 2018 - 2024\n",
    "- Make a training and testing directory for each"
   ]
  },
  {
   "cell_type": "markdown",
   "metadata": {},
   "source": [
    "## Imports"
   ]
  },
  {
   "cell_type": "code",
   "execution_count": 29,
   "metadata": {},
   "outputs": [],
   "source": [
    "import os\n",
    "import subprocess"
   ]
  },
  {
   "cell_type": "markdown",
   "metadata": {},
   "source": [
    "## Split into training/testing batches"
   ]
  },
  {
   "cell_type": "code",
   "execution_count": 33,
   "metadata": {},
   "outputs": [
    {
     "name": "stdout",
     "output_type": "stream",
     "text": [
      "Processed files for year 2009\n",
      "Processed files for year 2010\n",
      "Processed files for year 2011\n",
      "Processed files for year 2012\n",
      "Processed files for year 2013\n",
      "Processed files for year 2014\n",
      "Processed files for year 2015\n",
      "Processed files for year 2016\n",
      "Processed files for year 2017\n"
     ]
    }
   ],
   "source": [
    "# Loop through each year for training dataset (2009 - 2017)\n",
    "for year in range(2009, 2018):\n",
    "    # Define file paths\n",
    "    play_by_play_file = f\"{os.getcwd()}/data/play_by_play_{year}.csv\"\n",
    "    injuries_file = f\"{os.getcwd()}/data/injuries_{year}.csv\"\n",
    "\n",
    "    command = [\"./format_data.py\", play_by_play_file, injuries_file, \"training\", str(year)]\n",
    "    try:\n",
    "        subprocess.run(command, check=True)\n",
    "        print(f\"Processed files for year {year}\")\n",
    "    except subprocess.CalledProcessError as e:\n",
    "        print(f\"Error processing files for year {year}: {e}\")"
   ]
  },
  {
   "cell_type": "code",
   "execution_count": 34,
   "metadata": {},
   "outputs": [
    {
     "name": "stdout",
     "output_type": "stream",
     "text": [
      "Processed files for year 2018\n",
      "Processed files for year 2019\n",
      "Processed files for year 2020\n",
      "Processed files for year 2021\n",
      "Processed files for year 2022\n",
      "Processed files for year 2023\n",
      "Processed files for year 2024\n"
     ]
    }
   ],
   "source": [
    "# Loop through each year for testing dataset (2018 - 2024)\n",
    "for year in range(2018, 2025):\n",
    "    # Define file paths\n",
    "    play_by_play_file = f\"{os.getcwd()}/data/play_by_play_{year}.csv\"\n",
    "    injuries_file = f\"{os.getcwd()}/data/injuries_{year}.csv\"\n",
    "\n",
    "    command = [\"./format_data.py\", play_by_play_file, injuries_file, \"testing\", str(year)]\n",
    "    try:\n",
    "        subprocess.run(command, check=True)\n",
    "        print(f\"Processed files for year {year}\")\n",
    "    except subprocess.CalledProcessError as e:\n",
    "        print(f\"Error processing files for year {year}: {e}\")"
   ]
  }
 ],
 "metadata": {
  "kernelspec": {
   "display_name": "base",
   "language": "python",
   "name": "python3"
  },
  "language_info": {
   "codemirror_mode": {
    "name": "ipython",
    "version": 3
   },
   "file_extension": ".py",
   "mimetype": "text/x-python",
   "name": "python",
   "nbconvert_exporter": "python",
   "pygments_lexer": "ipython3",
   "version": "3.11.4"
  }
 },
 "nbformat": 4,
 "nbformat_minor": 2
}
